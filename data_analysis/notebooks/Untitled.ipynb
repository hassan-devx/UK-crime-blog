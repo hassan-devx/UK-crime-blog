{
 "cells": [
  {
   "cell_type": "code",
   "execution_count": 3,
   "id": "e274b3d1-19b6-46db-81e7-7ddfe8183b3c",
   "metadata": {},
   "outputs": [],
   "source": [
    "# archive_filtered.py\n",
    "import os\n",
    "\n",
    "os.makedirs(\"data/archive\", exist_ok=True)\n",
    "os.rename(r\"C:\\Users\\User\\Desktop\\UK-crime-blog\\filtered_crime_data.csv\", \"data/archive/filtered_crime_data_old.csv\")"
   ]
  },
  {
   "cell_type": "code",
   "execution_count": null,
   "id": "43ec3db5-089d-4c40-bd90-f018bff6ac54",
   "metadata": {},
   "outputs": [],
   "source": []
  }
 ],
 "metadata": {
  "kernelspec": {
   "display_name": "Python 3 (ipykernel)",
   "language": "python",
   "name": "python3"
  },
  "language_info": {
   "codemirror_mode": {
    "name": "ipython",
    "version": 3
   },
   "file_extension": ".py",
   "mimetype": "text/x-python",
   "name": "python",
   "nbconvert_exporter": "python",
   "pygments_lexer": "ipython3",
   "version": "3.13.5"
  }
 },
 "nbformat": 4,
 "nbformat_minor": 5
}
