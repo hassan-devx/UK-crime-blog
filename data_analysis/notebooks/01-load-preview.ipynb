{
 "cells": [
  {
   "cell_type": "code",
   "execution_count": 1,
   "id": "ea94d7fa-d4c6-443d-9909-63b3c17b4b8c",
   "metadata": {},
   "outputs": [],
   "source": [
    "import pandas as pd\n",
    "import glob\n",
    "\n",
    "files = glob.glob(r\"C:\\Users\\User\\Desktop\\UK-crime-blog\\data\\raw\\*.csv\")\n",
    "df_list = [pd.read_csv(file) for file in files]\n",
    "df = pd.concat(df_list, ignore_index=True)\n",
    "\n",
    "# Filter for South Wales\n",
    "df = df[df['Falls within'] == 'South Wales Police']\n",
    "\n",
    "import os\n",
    "\n",
    "# Create the directory if it doesn't exist\n",
    "os.makedirs(\"data/cleaned\", exist_ok=True)\n",
    "\n",
    "# Now save the file\n",
    "df.to_csv(\"data/cleaned/south_wales_crime.csv\", index=False)\n"
   ]
  },
  {
   "cell_type": "code",
   "execution_count": 2,
   "id": "23327d47-128d-4967-be7e-37cd8d5f0a6f",
   "metadata": {},
   "outputs": [
    {
     "name": "stdout",
     "output_type": "stream",
     "text": [
      "(402840, 12)\n",
      "Index(['Crime ID', 'Month', 'Reported by', 'Falls within', 'Longitude',\n",
      "       'Latitude', 'Location', 'LSOA code', 'LSOA name', 'Crime type',\n",
      "       'Last outcome category', 'Context'],\n",
      "      dtype='object')\n"
     ]
    }
   ],
   "source": [
    "print(df.shape)\n",
    "print(df.columns)"
   ]
  },
  {
   "cell_type": "code",
   "execution_count": 3,
   "id": "b27e62c3-5987-4052-a38e-4347ab8dd603",
   "metadata": {},
   "outputs": [
    {
     "name": "stdout",
     "output_type": "stream",
     "text": [
      "Index(['Crime ID', 'Month', 'Reported by', 'Falls within', 'Longitude',\n",
      "       'Latitude', 'Location', 'LSOA code', 'LSOA name', 'Crime type',\n",
      "       'Last outcome category', 'Context'],\n",
      "      dtype='object')\n",
      "(402840, 12)\n"
     ]
    },
    {
     "data": {
      "text/html": [
       "<div>\n",
       "<style scoped>\n",
       "    .dataframe tbody tr th:only-of-type {\n",
       "        vertical-align: middle;\n",
       "    }\n",
       "\n",
       "    .dataframe tbody tr th {\n",
       "        vertical-align: top;\n",
       "    }\n",
       "\n",
       "    .dataframe thead th {\n",
       "        text-align: right;\n",
       "    }\n",
       "</style>\n",
       "<table border=\"1\" class=\"dataframe\">\n",
       "  <thead>\n",
       "    <tr style=\"text-align: right;\">\n",
       "      <th></th>\n",
       "      <th>Crime ID</th>\n",
       "      <th>Month</th>\n",
       "      <th>Reported by</th>\n",
       "      <th>Falls within</th>\n",
       "      <th>Longitude</th>\n",
       "      <th>Latitude</th>\n",
       "      <th>Location</th>\n",
       "      <th>LSOA code</th>\n",
       "      <th>LSOA name</th>\n",
       "      <th>Crime type</th>\n",
       "      <th>Last outcome category</th>\n",
       "      <th>Context</th>\n",
       "    </tr>\n",
       "  </thead>\n",
       "  <tbody>\n",
       "    <tr>\n",
       "      <th>0</th>\n",
       "      <td>NaN</td>\n",
       "      <td>2022-08</td>\n",
       "      <td>South Wales Police</td>\n",
       "      <td>South Wales Police</td>\n",
       "      <td>-3.246597</td>\n",
       "      <td>51.775911</td>\n",
       "      <td>On or near</td>\n",
       "      <td>W01001481</td>\n",
       "      <td>Blaenau Gwent 006E</td>\n",
       "      <td>Anti-social behaviour</td>\n",
       "      <td>NaN</td>\n",
       "      <td>NaN</td>\n",
       "    </tr>\n",
       "    <tr>\n",
       "      <th>1</th>\n",
       "      <td>a4a475a0e6486d9a6d06e5ab267cc4bf855aa674e97c63...</td>\n",
       "      <td>2022-08</td>\n",
       "      <td>South Wales Police</td>\n",
       "      <td>South Wales Police</td>\n",
       "      <td>-3.248458</td>\n",
       "      <td>51.772647</td>\n",
       "      <td>On or near Stryd Yr Undeb</td>\n",
       "      <td>W01001481</td>\n",
       "      <td>Blaenau Gwent 006E</td>\n",
       "      <td>Violence and sexual offences</td>\n",
       "      <td>Status update unavailable</td>\n",
       "      <td>NaN</td>\n",
       "    </tr>\n",
       "    <tr>\n",
       "      <th>2</th>\n",
       "      <td>NaN</td>\n",
       "      <td>2022-08</td>\n",
       "      <td>South Wales Police</td>\n",
       "      <td>South Wales Police</td>\n",
       "      <td>-3.658828</td>\n",
       "      <td>51.634723</td>\n",
       "      <td>On or near Tudor Estate</td>\n",
       "      <td>W01000991</td>\n",
       "      <td>Bridgend 001A</td>\n",
       "      <td>Anti-social behaviour</td>\n",
       "      <td>NaN</td>\n",
       "      <td>NaN</td>\n",
       "    </tr>\n",
       "    <tr>\n",
       "      <th>3</th>\n",
       "      <td>NaN</td>\n",
       "      <td>2022-08</td>\n",
       "      <td>South Wales Police</td>\n",
       "      <td>South Wales Police</td>\n",
       "      <td>-3.658828</td>\n",
       "      <td>51.634723</td>\n",
       "      <td>On or near Tudor Estate</td>\n",
       "      <td>W01000991</td>\n",
       "      <td>Bridgend 001A</td>\n",
       "      <td>Anti-social behaviour</td>\n",
       "      <td>NaN</td>\n",
       "      <td>NaN</td>\n",
       "    </tr>\n",
       "    <tr>\n",
       "      <th>4</th>\n",
       "      <td>NaN</td>\n",
       "      <td>2022-08</td>\n",
       "      <td>South Wales Police</td>\n",
       "      <td>South Wales Police</td>\n",
       "      <td>-3.658828</td>\n",
       "      <td>51.634723</td>\n",
       "      <td>On or near Tudor Estate</td>\n",
       "      <td>W01000991</td>\n",
       "      <td>Bridgend 001A</td>\n",
       "      <td>Anti-social behaviour</td>\n",
       "      <td>NaN</td>\n",
       "      <td>NaN</td>\n",
       "    </tr>\n",
       "  </tbody>\n",
       "</table>\n",
       "</div>"
      ],
      "text/plain": [
       "                                            Crime ID    Month  \\\n",
       "0                                                NaN  2022-08   \n",
       "1  a4a475a0e6486d9a6d06e5ab267cc4bf855aa674e97c63...  2022-08   \n",
       "2                                                NaN  2022-08   \n",
       "3                                                NaN  2022-08   \n",
       "4                                                NaN  2022-08   \n",
       "\n",
       "          Reported by        Falls within  Longitude   Latitude  \\\n",
       "0  South Wales Police  South Wales Police  -3.246597  51.775911   \n",
       "1  South Wales Police  South Wales Police  -3.248458  51.772647   \n",
       "2  South Wales Police  South Wales Police  -3.658828  51.634723   \n",
       "3  South Wales Police  South Wales Police  -3.658828  51.634723   \n",
       "4  South Wales Police  South Wales Police  -3.658828  51.634723   \n",
       "\n",
       "                    Location  LSOA code           LSOA name  \\\n",
       "0                On or near   W01001481  Blaenau Gwent 006E   \n",
       "1  On or near Stryd Yr Undeb  W01001481  Blaenau Gwent 006E   \n",
       "2    On or near Tudor Estate  W01000991       Bridgend 001A   \n",
       "3    On or near Tudor Estate  W01000991       Bridgend 001A   \n",
       "4    On or near Tudor Estate  W01000991       Bridgend 001A   \n",
       "\n",
       "                     Crime type      Last outcome category  Context  \n",
       "0         Anti-social behaviour                        NaN      NaN  \n",
       "1  Violence and sexual offences  Status update unavailable      NaN  \n",
       "2         Anti-social behaviour                        NaN      NaN  \n",
       "3         Anti-social behaviour                        NaN      NaN  \n",
       "4         Anti-social behaviour                        NaN      NaN  "
      ]
     },
     "execution_count": 3,
     "metadata": {},
     "output_type": "execute_result"
    }
   ],
   "source": [
    "import pandas as pd\n",
    "\n",
    "df = pd.read_csv(\"data/cleaned/south_wales_crime.csv\")\n",
    "print(df.columns)\n",
    "print(df.shape)\n",
    "df.head()"
   ]
  },
  {
   "cell_type": "code",
   "execution_count": 4,
   "id": "6be2d118-cb70-420f-a5db-7a9c422a8866",
   "metadata": {},
   "outputs": [
    {
     "data": {
      "text/plain": [
       "Crime type\n",
       "Violence and sexual offences    142428\n",
       "Anti-social behaviour            60409\n",
       "Public order                     44624\n",
       "Shoplifting                      37276\n",
       "Criminal damage and arson        32690\n",
       "Other theft                      23379\n",
       "Vehicle crime                    19646\n",
       "Burglary                         11530\n",
       "Drugs                            10354\n",
       "Other crime                       8147\n",
       "Name: count, dtype: int64"
      ]
     },
     "execution_count": 4,
     "metadata": {},
     "output_type": "execute_result"
    }
   ],
   "source": [
    "df['Crime type'].value_counts().head(10)"
   ]
  },
  {
   "cell_type": "code",
   "execution_count": 5,
   "id": "79118149",
   "metadata": {},
   "outputs": [],
   "source": [
    "df_filtered = df[\n",
    "    (df['Latitude'].between(51.4, 51.8)) &\n",
    "    (df['Longitude'].between(-4.1, -3.8))\n",
    "]"
   ]
  },
  {
   "cell_type": "code",
   "execution_count": 6,
   "id": "076b8e09",
   "metadata": {},
   "outputs": [],
   "source": [
    "df_filtered = df[df['LSOA name'].str.contains('Swansea|Neath|Port Talbot', case=False, na=False)]"
   ]
  },
  {
   "cell_type": "code",
   "execution_count": 7,
   "id": "e4510f99",
   "metadata": {},
   "outputs": [],
   "source": [
    "df_filtered.head()\n",
    "df_filtered.to_csv('../../filtered_crime_data.csv', index=False)"
   ]
  },
  {
   "cell_type": "code",
   "execution_count": 8,
   "id": "cbd369a7-d012-4029-b881-07edf094bc33",
   "metadata": {},
   "outputs": [
    {
     "data": {
      "text/plain": [
       "<Axes: title={'center': 'Monthly Crime Trend in South Wales'}, xlabel='Month'>"
      ]
     },
     "execution_count": 8,
     "metadata": {},
     "output_type": "execute_result"
    },
    {
     "data": {
      "image/png": "[encoded data removed]",
      "text/plain": [
       "<Figure size 640x480 with 1 Axes>"
      ]
     },
     "metadata": {},
     "output_type": "display_data"
    }
   ],
   "source": [
    "df['Month'] = pd.to_datetime(df['Month'])\n",
    "monthly_trend = df.groupby(df['Month'].dt.to_period('M')).size()\n",
    "monthly_trend.plot(kind='line', title='Monthly Crime Trend in South Wales')"
   ]
  },
  {
   "cell_type": "code",
   "execution_count": null,
   "id": "afbc73ae",
   "metadata": {},
   "outputs": [],
   "source": []
  },
  {
   "cell_type": "code",
   "execution_count": 9,
   "id": "50b324f0-3ec5-4e9d-90ca-3f8afaed614b",
   "metadata": {},
   "outputs": [
    {
     "data": {
      "text/plain": [
       "Location\n",
       "On or near Parking Area              14544\n",
       "On or near                           13623\n",
       "No Location                          10210\n",
       "On or near Supermarket               10079\n",
       "On or near Shopping Area              5891\n",
       "On or near Petrol Station             5354\n",
       "On or near Sports/Recreation Area     4350\n",
       "On or near Nightclub                  3186\n",
       "On or near Police Station             1559\n",
       "On or near High Street                1398\n",
       "Name: count, dtype: int64"
      ]
     },
     "execution_count": 9,
     "metadata": {},
     "output_type": "execute_result"
    }
   ],
   "source": [
    "df['Location'].value_counts().head(10)"
   ]
  },
  {
   "cell_type": "code",
   "execution_count": 10,
   "id": "449d4ff0",
   "metadata": {},
   "outputs": [
    {
     "ename": "FileNotFoundError",
     "evalue": "[Errno 2] No such file or directory: 'filtered_crime_data.csv'",
     "output_type": "error",
     "traceback": [
      "\u001b[31m---------------------------------------------------------------------------\u001b[39m",
      "\u001b[31mFileNotFoundError\u001b[39m                         Traceback (most recent call last)",
      "\u001b[36mCell\u001b[39m\u001b[36m \u001b[39m\u001b[32mIn[10]\u001b[39m\u001b[32m, line 1\u001b[39m\n\u001b[32m----> \u001b[39m\u001b[32m1\u001b[39m df = \u001b[43mpd\u001b[49m\u001b[43m.\u001b[49m\u001b[43mread_csv\u001b[49m\u001b[43m(\u001b[49m\u001b[33;43m'\u001b[39;49m\u001b[33;43mfiltered_crime_data.csv\u001b[39;49m\u001b[33;43m'\u001b[39;49m\u001b[43m)\u001b[49m\n",
      "\u001b[36mFile \u001b[39m\u001b[32m~\\Desktop\\uk-crime-analysis-south-wales\\venv\\Lib\\site-packages\\pandas\\io\\parsers\\readers.py:1026\u001b[39m, in \u001b[36mread_csv\u001b[39m\u001b[34m(filepath_or_buffer, sep, delimiter, header, names, index_col, usecols, dtype, engine, converters, true_values, false_values, skipinitialspace, skiprows, skipfooter, nrows, na_values, keep_default_na, na_filter, verbose, skip_blank_lines, parse_dates, infer_datetime_format, keep_date_col, date_parser, date_format, dayfirst, cache_dates, iterator, chunksize, compression, thousands, decimal, lineterminator, quotechar, quoting, doublequote, escapechar, comment, encoding, encoding_errors, dialect, on_bad_lines, delim_whitespace, low_memory, memory_map, float_precision, storage_options, dtype_backend)\u001b[39m\n\u001b[32m   1013\u001b[39m kwds_defaults = _refine_defaults_read(\n\u001b[32m   1014\u001b[39m     dialect,\n\u001b[32m   1015\u001b[39m     delimiter,\n\u001b[32m   (...)\u001b[39m\u001b[32m   1022\u001b[39m     dtype_backend=dtype_backend,\n\u001b[32m   1023\u001b[39m )\n\u001b[32m   1024\u001b[39m kwds.update(kwds_defaults)\n\u001b[32m-> \u001b[39m\u001b[32m1026\u001b[39m \u001b[38;5;28;01mreturn\u001b[39;00m \u001b[43m_read\u001b[49m\u001b[43m(\u001b[49m\u001b[43mfilepath_or_buffer\u001b[49m\u001b[43m,\u001b[49m\u001b[43m \u001b[49m\u001b[43mkwds\u001b[49m\u001b[43m)\u001b[49m\n",
      "\u001b[36mFile \u001b[39m\u001b[32m~\\Desktop\\uk-crime-analysis-south-wales\\venv\\Lib\\site-packages\\pandas\\io\\parsers\\readers.py:620\u001b[39m, in \u001b[36m_read\u001b[39m\u001b[34m(filepath_or_buffer, kwds)\u001b[39m\n\u001b[32m    617\u001b[39m _validate_names(kwds.get(\u001b[33m\"\u001b[39m\u001b[33mnames\u001b[39m\u001b[33m\"\u001b[39m, \u001b[38;5;28;01mNone\u001b[39;00m))\n\u001b[32m    619\u001b[39m \u001b[38;5;66;03m# Create the parser.\u001b[39;00m\n\u001b[32m--> \u001b[39m\u001b[32m620\u001b[39m parser = \u001b[43mTextFileReader\u001b[49m\u001b[43m(\u001b[49m\u001b[43mfilepath_or_buffer\u001b[49m\u001b[43m,\u001b[49m\u001b[43m \u001b[49m\u001b[43m*\u001b[49m\u001b[43m*\u001b[49m\u001b[43mkwds\u001b[49m\u001b[43m)\u001b[49m\n\u001b[32m    622\u001b[39m \u001b[38;5;28;01mif\u001b[39;00m chunksize \u001b[38;5;129;01mor\u001b[39;00m iterator:\n\u001b[32m    623\u001b[39m     \u001b[38;5;28;01mreturn\u001b[39;00m parser\n",
      "\u001b[36mFile \u001b[39m\u001b[32m~\\Desktop\\uk-crime-analysis-south-wales\\venv\\Lib\\site-packages\\pandas\\io\\parsers\\readers.py:1620\u001b[39m, in \u001b[36mTextFileReader.__init__\u001b[39m\u001b[34m(self, f, engine, **kwds)\u001b[39m\n\u001b[32m   1617\u001b[39m     \u001b[38;5;28mself\u001b[39m.options[\u001b[33m\"\u001b[39m\u001b[33mhas_index_names\u001b[39m\u001b[33m\"\u001b[39m] = kwds[\u001b[33m\"\u001b[39m\u001b[33mhas_index_names\u001b[39m\u001b[33m\"\u001b[39m]\n\u001b[32m   1619\u001b[39m \u001b[38;5;28mself\u001b[39m.handles: IOHandles | \u001b[38;5;28;01mNone\u001b[39;00m = \u001b[38;5;28;01mNone\u001b[39;00m\n\u001b[32m-> \u001b[39m\u001b[32m1620\u001b[39m \u001b[38;5;28mself\u001b[39m._engine = \u001b[38;5;28;43mself\u001b[39;49m\u001b[43m.\u001b[49m\u001b[43m_make_engine\u001b[49m\u001b[43m(\u001b[49m\u001b[43mf\u001b[49m\u001b[43m,\u001b[49m\u001b[43m \u001b[49m\u001b[38;5;28;43mself\u001b[39;49m\u001b[43m.\u001b[49m\u001b[43mengine\u001b[49m\u001b[43m)\u001b[49m\n",
      "\u001b[36mFile \u001b[39m\u001b[32m~\\Desktop\\uk-crime-analysis-south-wales\\venv\\Lib\\site-packages\\pandas\\io\\parsers\\readers.py:1880\u001b[39m, in \u001b[36mTextFileReader._make_engine\u001b[39m\u001b[34m(self, f, engine)\u001b[39m\n\u001b[32m   1878\u001b[39m     \u001b[38;5;28;01mif\u001b[39;00m \u001b[33m\"\u001b[39m\u001b[33mb\u001b[39m\u001b[33m\"\u001b[39m \u001b[38;5;129;01mnot\u001b[39;00m \u001b[38;5;129;01min\u001b[39;00m mode:\n\u001b[32m   1879\u001b[39m         mode += \u001b[33m\"\u001b[39m\u001b[33mb\u001b[39m\u001b[33m\"\u001b[39m\n\u001b[32m-> \u001b[39m\u001b[32m1880\u001b[39m \u001b[38;5;28mself\u001b[39m.handles = \u001b[43mget_handle\u001b[49m\u001b[43m(\u001b[49m\n\u001b[32m   1881\u001b[39m \u001b[43m    \u001b[49m\u001b[43mf\u001b[49m\u001b[43m,\u001b[49m\n\u001b[32m   1882\u001b[39m \u001b[43m    \u001b[49m\u001b[43mmode\u001b[49m\u001b[43m,\u001b[49m\n\u001b[32m   1883\u001b[39m \u001b[43m    \u001b[49m\u001b[43mencoding\u001b[49m\u001b[43m=\u001b[49m\u001b[38;5;28;43mself\u001b[39;49m\u001b[43m.\u001b[49m\u001b[43moptions\u001b[49m\u001b[43m.\u001b[49m\u001b[43mget\u001b[49m\u001b[43m(\u001b[49m\u001b[33;43m\"\u001b[39;49m\u001b[33;43mencoding\u001b[39;49m\u001b[33;43m\"\u001b[39;49m\u001b[43m,\u001b[49m\u001b[43m \u001b[49m\u001b[38;5;28;43;01mNone\u001b[39;49;00m\u001b[43m)\u001b[49m\u001b[43m,\u001b[49m\n\u001b[32m   1884\u001b[39m \u001b[43m    \u001b[49m\u001b[43mcompression\u001b[49m\u001b[43m=\u001b[49m\u001b[38;5;28;43mself\u001b[39;49m\u001b[43m.\u001b[49m\u001b[43moptions\u001b[49m\u001b[43m.\u001b[49m\u001b[43mget\u001b[49m\u001b[43m(\u001b[49m\u001b[33;43m\"\u001b[39;49m\u001b[33;43mcompression\u001b[39;49m\u001b[33;43m\"\u001b[39;49m\u001b[43m,\u001b[49m\u001b[43m \u001b[49m\u001b[38;5;28;43;01mNone\u001b[39;49;00m\u001b[43m)\u001b[49m\u001b[43m,\u001b[49m\n\u001b[32m   1885\u001b[39m \u001b[43m    \u001b[49m\u001b[43mmemory_map\u001b[49m\u001b[43m=\u001b[49m\u001b[38;5;28;43mself\u001b[39;49m\u001b[43m.\u001b[49m\u001b[43moptions\u001b[49m\u001b[43m.\u001b[49m\u001b[43mget\u001b[49m\u001b[43m(\u001b[49m\u001b[33;43m\"\u001b[39;49m\u001b[33;43mmemory_map\u001b[39;49m\u001b[33;43m\"\u001b[39;49m\u001b[43m,\u001b[49m\u001b[43m \u001b[49m\u001b[38;5;28;43;01mFalse\u001b[39;49;00m\u001b[43m)\u001b[49m\u001b[43m,\u001b[49m\n\u001b[32m   1886\u001b[39m \u001b[43m    \u001b[49m\u001b[43mis_text\u001b[49m\u001b[43m=\u001b[49m\u001b[43mis_text\u001b[49m\u001b[43m,\u001b[49m\n\u001b[32m   1887\u001b[39m \u001b[43m    \u001b[49m\u001b[43merrors\u001b[49m\u001b[43m=\u001b[49m\u001b[38;5;28;43mself\u001b[39;49m\u001b[43m.\u001b[49m\u001b[43moptions\u001b[49m\u001b[43m.\u001b[49m\u001b[43mget\u001b[49m\u001b[43m(\u001b[49m\u001b[33;43m\"\u001b[39;49m\u001b[33;43mencoding_errors\u001b[39;49m\u001b[33;43m\"\u001b[39;49m\u001b[43m,\u001b[49m\u001b[43m \u001b[49m\u001b[33;43m\"\u001b[39;49m\u001b[33;43mstrict\u001b[39;49m\u001b[33;43m\"\u001b[39;49m\u001b[43m)\u001b[49m\u001b[43m,\u001b[49m\n\u001b[32m   1888\u001b[39m \u001b[43m    \u001b[49m\u001b[43mstorage_options\u001b[49m\u001b[43m=\u001b[49m\u001b[38;5;28;43mself\u001b[39;49m\u001b[43m.\u001b[49m\u001b[43moptions\u001b[49m\u001b[43m.\u001b[49m\u001b[43mget\u001b[49m\u001b[43m(\u001b[49m\u001b[33;43m\"\u001b[39;49m\u001b[33;43mstorage_options\u001b[39;49m\u001b[33;43m\"\u001b[39;49m\u001b[43m,\u001b[49m\u001b[43m \u001b[49m\u001b[38;5;28;43;01mNone\u001b[39;49;00m\u001b[43m)\u001b[49m\u001b[43m,\u001b[49m\n\u001b[32m   1889\u001b[39m \u001b[43m\u001b[49m\u001b[43m)\u001b[49m\n\u001b[32m   1890\u001b[39m \u001b[38;5;28;01massert\u001b[39;00m \u001b[38;5;28mself\u001b[39m.handles \u001b[38;5;129;01mis\u001b[39;00m \u001b[38;5;129;01mnot\u001b[39;00m \u001b[38;5;28;01mNone\u001b[39;00m\n\u001b[32m   1891\u001b[39m f = \u001b[38;5;28mself\u001b[39m.handles.handle\n",
      "\u001b[36mFile \u001b[39m\u001b[32m~\\Desktop\\uk-crime-analysis-south-wales\\venv\\Lib\\site-packages\\pandas\\io\\common.py:873\u001b[39m, in \u001b[36mget_handle\u001b[39m\u001b[34m(path_or_buf, mode, encoding, compression, memory_map, is_text, errors, storage_options)\u001b[39m\n\u001b[32m    868\u001b[39m \u001b[38;5;28;01melif\u001b[39;00m \u001b[38;5;28misinstance\u001b[39m(handle, \u001b[38;5;28mstr\u001b[39m):\n\u001b[32m    869\u001b[39m     \u001b[38;5;66;03m# Check whether the filename is to be opened in binary mode.\u001b[39;00m\n\u001b[32m    870\u001b[39m     \u001b[38;5;66;03m# Binary mode does not support 'encoding' and 'newline'.\u001b[39;00m\n\u001b[32m    871\u001b[39m     \u001b[38;5;28;01mif\u001b[39;00m ioargs.encoding \u001b[38;5;129;01mand\u001b[39;00m \u001b[33m\"\u001b[39m\u001b[33mb\u001b[39m\u001b[33m\"\u001b[39m \u001b[38;5;129;01mnot\u001b[39;00m \u001b[38;5;129;01min\u001b[39;00m ioargs.mode:\n\u001b[32m    872\u001b[39m         \u001b[38;5;66;03m# Encoding\u001b[39;00m\n\u001b[32m--> \u001b[39m\u001b[32m873\u001b[39m         handle = \u001b[38;5;28;43mopen\u001b[39;49m\u001b[43m(\u001b[49m\n\u001b[32m    874\u001b[39m \u001b[43m            \u001b[49m\u001b[43mhandle\u001b[49m\u001b[43m,\u001b[49m\n\u001b[32m    875\u001b[39m \u001b[43m            \u001b[49m\u001b[43mioargs\u001b[49m\u001b[43m.\u001b[49m\u001b[43mmode\u001b[49m\u001b[43m,\u001b[49m\n\u001b[32m    876\u001b[39m \u001b[43m            \u001b[49m\u001b[43mencoding\u001b[49m\u001b[43m=\u001b[49m\u001b[43mioargs\u001b[49m\u001b[43m.\u001b[49m\u001b[43mencoding\u001b[49m\u001b[43m,\u001b[49m\n\u001b[32m    877\u001b[39m \u001b[43m            \u001b[49m\u001b[43merrors\u001b[49m\u001b[43m=\u001b[49m\u001b[43merrors\u001b[49m\u001b[43m,\u001b[49m\n\u001b[32m    878\u001b[39m \u001b[43m            \u001b[49m\u001b[43mnewline\u001b[49m\u001b[43m=\u001b[49m\u001b[33;43m\"\u001b[39;49m\u001b[33;43m\"\u001b[39;49m\u001b[43m,\u001b[49m\n\u001b[32m    879\u001b[39m \u001b[43m        \u001b[49m\u001b[43m)\u001b[49m\n\u001b[32m    880\u001b[39m     \u001b[38;5;28;01melse\u001b[39;00m:\n\u001b[32m    881\u001b[39m         \u001b[38;5;66;03m# Binary mode\u001b[39;00m\n\u001b[32m    882\u001b[39m         handle = \u001b[38;5;28mopen\u001b[39m(handle, ioargs.mode)\n",
      "\u001b[31mFileNotFoundError\u001b[39m: [Errno 2] No such file or directory: 'filtered_crime_data.csv'"
     ]
    }
   ],
   "source": [
    "df = pd.read_csv('filtered_crime_data.csv')"
   ]
  },
  {
   "cell_type": "code",
   "execution_count": null,
   "id": "64919268-9dc5-450e-a0da-a8443dc7b9a5",
   "metadata": {},
   "outputs": [],
   "source": [
    "pip install folium"
   ]
  },
  {
   "cell_type": "code",
   "execution_count": null,
   "id": "65ebd2ac-1164-4853-82b0-3971064eadc4",
   "metadata": {},
   "outputs": [],
   "source": [
    "# Drop rows with missing Latitude or Longitude\n",
    "df_clean = df.dropna(subset=['Latitude', 'Longitude'])\n",
    "\n",
    "# Build heatmap data\n",
    "heat_data = [[row['Latitude'], row['Longitude']] for index, row in df_clean.iterrows()]\n",
    "\n",
    "# Create map\n",
    "import folium\n",
    "from folium.plugins import HeatMap\n",
    "\n",
    "crime_map = folium.Map(location=[51.6, -3.9], zoom_start=10)\n",
    "HeatMap(heat_data).add_to(crime_map)\n",
    "crime_map"
   ]
  },
  {
   "cell_type": "code",
   "execution_count": null,
   "id": "70e0514b",
   "metadata": {},
   "outputs": [],
   "source": [
    "import folium\n",
    "from folium.plugins import HeatMap\n",
    "import pandas as pd\n",
    "\n",
    "# Load your cleaned crime data\n",
    "df = pd.read_csv('filtered_crime_data.csv')  # or whatever file you saved\n",
    "\n",
    "# Create map centered on Swansea\n",
    "m = folium.Map(location=[51.6214, -3.9436], zoom_start=12)\n",
    "\n",
    "# Add heatmap layer\n",
    "heat_data = [[row['Latitude'], row['Longitude']] for index, row in df.iterrows()]\n",
    "HeatMap(heat_data).add_to(m)\n",
    "\n",
    "# Save to templates folder\n",
    "m.save('app/templates/heatmap.html')"
   ]
  },
  {
   "cell_type": "code",
   "execution_count": null,
   "id": "60c07f46-5a9f-4d83-a2ab-e6d3377f0edc",
   "metadata": {},
   "outputs": [],
   "source": []
  }
 ],
 "metadata": {
  "kernelspec": {
   "display_name": "venv",
   "language": "python",
   "name": "venv"
  },
  "language_info": {
   "codemirror_mode": {
    "name": "ipython",
    "version": 3
   },
   "file_extension": ".py",
   "mimetype": "text/x-python",
   "name": "python",
   "nbconvert_exporter": "python",
   "pygments_lexer": "ipython3",
   "version": "3.13.5"
  }
 },
 "nbformat": 4,
 "nbformat_minor": 5
}
